{
 "cells": [
  {
   "cell_type": "code",
   "execution_count": 1,
   "metadata": {},
   "outputs": [],
   "source": [
    "import pandas as pd\n",
    "import numpy as np"
   ]
  },
  {
   "attachments": {},
   "cell_type": "markdown",
   "metadata": {},
   "source": [
    "##2. Ejercicios\n",
    "\n",
    "###2.1. Pandas Básico\n",
    "\n",
    "2.1.1. Carga el archivo 'world-data-1' como DataFrame (world_1)\n",
    "\n",
    "2.1.2. Muestra las primeras 5 filas del conjunto de datos.\n",
    "\n",
    "2.1.3. Muestra el número total de filas y columnas en el conjunto de datos.\n",
    "\n",
    "2.1.4. Muestra el nombre de todas las columnas en el conjunto de datos.\n",
    "\n",
    "2.1.5. Muestra los valores únicos en la columna \"Country\".\n",
    "\n",
    "2.1.6. Cuenta cuántas veces aparece cada valor único en la columna \"Country\".\n",
    "\n",
    "2.1.7. Verifica si hay valores nulos en el conjunto de datos.\n",
    "\n",
    "2.1.8. Comprueba la presencia de duplicados en el conjunto de datos.\n",
    "\n",
    "2.1.9. Muestra información general sobre el conjunto de datos.\n",
    "\n",
    "2.1.10. Selecciona las columnas numéricas del conjunto de datos y muestra sus estadísticas descriptivas básicas. Haz lo mismo para las categóricas."
   ]
  },
  {
   "cell_type": "code",
   "execution_count": 20,
   "metadata": {},
   "outputs": [],
   "source": [
    "world_1 = pd.read_csv(\"world-data-1.csv\", index_col=0)"
   ]
  },
  {
   "cell_type": "code",
   "execution_count": 21,
   "metadata": {},
   "outputs": [
    {
     "data": {
      "text/html": [
       "<div>\n",
       "<style scoped>\n",
       "    .dataframe tbody tr th:only-of-type {\n",
       "        vertical-align: middle;\n",
       "    }\n",
       "\n",
       "    .dataframe tbody tr th {\n",
       "        vertical-align: top;\n",
       "    }\n",
       "\n",
       "    .dataframe thead th {\n",
       "        text-align: right;\n",
       "    }\n",
       "</style>\n",
       "<table border=\"1\" class=\"dataframe\">\n",
       "  <thead>\n",
       "    <tr style=\"text-align: right;\">\n",
       "      <th></th>\n",
       "      <th>Country</th>\n",
       "      <th>Density\\n(P/Km2)</th>\n",
       "      <th>Abbreviation</th>\n",
       "      <th>Agricultural Land( %)</th>\n",
       "      <th>Land Area(Km2)</th>\n",
       "      <th>Armed Forces size</th>\n",
       "      <th>Birth Rate</th>\n",
       "      <th>Calling Code</th>\n",
       "      <th>Capital/Major City</th>\n",
       "      <th>Co2-Emissions</th>\n",
       "      <th>CPI</th>\n",
       "      <th>CPI Change (%)</th>\n",
       "      <th>Currency-Code</th>\n",
       "      <th>Fertility Rate</th>\n",
       "      <th>Forested Area (%)</th>\n",
       "      <th>Gasoline Price</th>\n",
       "    </tr>\n",
       "  </thead>\n",
       "  <tbody>\n",
       "    <tr>\n",
       "      <th>0</th>\n",
       "      <td>Afghanistan</td>\n",
       "      <td>60.0</td>\n",
       "      <td>AF</td>\n",
       "      <td>58.1</td>\n",
       "      <td>652,230</td>\n",
       "      <td>323,000</td>\n",
       "      <td>32.49</td>\n",
       "      <td>93.0</td>\n",
       "      <td>Kabul</td>\n",
       "      <td>8,672</td>\n",
       "      <td>149.9</td>\n",
       "      <td>2.3</td>\n",
       "      <td>AFN</td>\n",
       "      <td>4.47</td>\n",
       "      <td>2.1</td>\n",
       "      <td>0.70</td>\n",
       "    </tr>\n",
       "    <tr>\n",
       "      <th>1</th>\n",
       "      <td>Albania</td>\n",
       "      <td>105.0</td>\n",
       "      <td>AL</td>\n",
       "      <td>43.1</td>\n",
       "      <td>28,748</td>\n",
       "      <td>9,000</td>\n",
       "      <td>11.78</td>\n",
       "      <td>355.0</td>\n",
       "      <td>Tirana</td>\n",
       "      <td>4,536</td>\n",
       "      <td>119.05</td>\n",
       "      <td>1.4</td>\n",
       "      <td>ALL</td>\n",
       "      <td>1.62</td>\n",
       "      <td>28.1</td>\n",
       "      <td>1.36</td>\n",
       "    </tr>\n",
       "    <tr>\n",
       "      <th>2</th>\n",
       "      <td>Algeria</td>\n",
       "      <td>18.0</td>\n",
       "      <td>DZ</td>\n",
       "      <td>17.4</td>\n",
       "      <td>2,381,741</td>\n",
       "      <td>317,000</td>\n",
       "      <td>24.28</td>\n",
       "      <td>213.0</td>\n",
       "      <td>Algiers</td>\n",
       "      <td>150,006</td>\n",
       "      <td>151.36</td>\n",
       "      <td>2.0</td>\n",
       "      <td>DZD</td>\n",
       "      <td>3.02</td>\n",
       "      <td>0.8</td>\n",
       "      <td>0.28</td>\n",
       "    </tr>\n",
       "    <tr>\n",
       "      <th>3</th>\n",
       "      <td>Andorra</td>\n",
       "      <td>164.0</td>\n",
       "      <td>AD</td>\n",
       "      <td>40.0</td>\n",
       "      <td>468</td>\n",
       "      <td>NaN</td>\n",
       "      <td>7.20</td>\n",
       "      <td>376.0</td>\n",
       "      <td>Andorra la Vella</td>\n",
       "      <td>469</td>\n",
       "      <td>NaN</td>\n",
       "      <td>NaN</td>\n",
       "      <td>EUR</td>\n",
       "      <td>1.27</td>\n",
       "      <td>34.0</td>\n",
       "      <td>1.51</td>\n",
       "    </tr>\n",
       "    <tr>\n",
       "      <th>4</th>\n",
       "      <td>Angola</td>\n",
       "      <td>26.0</td>\n",
       "      <td>AO</td>\n",
       "      <td>47.5</td>\n",
       "      <td>1,246,700</td>\n",
       "      <td>117,000</td>\n",
       "      <td>40.73</td>\n",
       "      <td>244.0</td>\n",
       "      <td>Luanda</td>\n",
       "      <td>34,693</td>\n",
       "      <td>261.73</td>\n",
       "      <td>17.1</td>\n",
       "      <td>AOA</td>\n",
       "      <td>5.52</td>\n",
       "      <td>46.3</td>\n",
       "      <td>0.97</td>\n",
       "    </tr>\n",
       "  </tbody>\n",
       "</table>\n",
       "</div>"
      ],
      "text/plain": [
       "       Country  Density\\n(P/Km2) Abbreviation  Agricultural Land( %)  \\\n",
       "0  Afghanistan              60.0           AF                   58.1   \n",
       "1      Albania             105.0           AL                   43.1   \n",
       "2      Algeria              18.0           DZ                   17.4   \n",
       "3      Andorra             164.0           AD                   40.0   \n",
       "4       Angola              26.0           AO                   47.5   \n",
       "\n",
       "  Land Area(Km2) Armed Forces size  Birth Rate  Calling Code  \\\n",
       "0        652,230           323,000       32.49          93.0   \n",
       "1         28,748             9,000       11.78         355.0   \n",
       "2      2,381,741           317,000       24.28         213.0   \n",
       "3            468               NaN        7.20         376.0   \n",
       "4      1,246,700           117,000       40.73         244.0   \n",
       "\n",
       "  Capital/Major City Co2-Emissions     CPI  CPI Change (%) Currency-Code  \\\n",
       "0              Kabul         8,672   149.9             2.3           AFN   \n",
       "1             Tirana         4,536  119.05             1.4           ALL   \n",
       "2            Algiers       150,006  151.36             2.0           DZD   \n",
       "3   Andorra la Vella           469     NaN             NaN           EUR   \n",
       "4             Luanda        34,693  261.73            17.1           AOA   \n",
       "\n",
       "   Fertility Rate  Forested Area (%)  Gasoline Price  \n",
       "0            4.47                2.1            0.70  \n",
       "1            1.62               28.1            1.36  \n",
       "2            3.02                0.8            0.28  \n",
       "3            1.27               34.0            1.51  \n",
       "4            5.52               46.3            0.97  "
      ]
     },
     "execution_count": 21,
     "metadata": {},
     "output_type": "execute_result"
    }
   ],
   "source": [
    "world_1.head(5)"
   ]
  },
  {
   "cell_type": "code",
   "execution_count": 22,
   "metadata": {},
   "outputs": [
    {
     "data": {
      "text/plain": [
       "(195, 16)"
      ]
     },
     "execution_count": 22,
     "metadata": {},
     "output_type": "execute_result"
    }
   ],
   "source": [
    "world_1.shape"
   ]
  },
  {
   "cell_type": "code",
   "execution_count": 15,
   "metadata": {},
   "outputs": [
    {
     "data": {
      "text/plain": [
       "Index(['Country', 'Density\\n(P/Km2)', 'Abbreviation', 'Agricultural Land( %)',\n",
       "       'Land Area(Km2)', 'Armed Forces size', 'Birth Rate', 'Calling Code',\n",
       "       'Capital/Major City', 'Co2-Emissions', 'CPI', 'CPI Change (%)',\n",
       "       'Currency-Code', 'Fertility Rate', 'Forested Area (%)',\n",
       "       'Gasoline Price'],\n",
       "      dtype='object')"
      ]
     },
     "execution_count": 15,
     "metadata": {},
     "output_type": "execute_result"
    }
   ],
   "source": [
    "world_1.columns"
   ]
  },
  {
   "cell_type": "code",
   "execution_count": 31,
   "metadata": {},
   "outputs": [
    {
     "data": {
      "text/plain": [
       "array(['Afghanistan', 'Albania', 'Algeria', 'Andorra', 'Angola',\n",
       "       'Antigua and Barbuda', 'Argentina', 'Armenia', 'Australia',\n",
       "       'Austria', 'Azerbaijan', 'The Bahamas', 'Bahrain', 'Bangladesh',\n",
       "       'Barbados', 'Belarus', 'Belgium', 'Belize', 'Benin', 'Bhutan',\n",
       "       'Bolivia', 'Bosnia and Herzegovina', 'Botswana', 'Brazil',\n",
       "       'Brunei', 'Bulgaria', 'Burkina Faso', 'Burundi', 'Ivory Coast',\n",
       "       'Cape Verde', 'Cambodia', 'Cameroon', 'Canada',\n",
       "       'Central African Republic', 'Chad', 'Chile', 'China', 'Colombia',\n",
       "       'Comoros', 'Republic of the Congo', 'Costa Rica', 'Croatia',\n",
       "       'Cuba', 'Cyprus', 'Czech Republic',\n",
       "       'Democratic Republic of the Congo', 'Denmark', 'Djibouti',\n",
       "       'Dominica', 'Dominican Republic', 'Ecuador', 'Egypt',\n",
       "       'El Salvador', 'Equatorial Guinea', 'Eritrea', 'Estonia',\n",
       "       'Eswatini', 'Ethiopia', 'Fiji', 'Finland', 'France', 'Gabon',\n",
       "       'The Gambia', 'Georgia', 'Germany', 'Ghana', 'Greece', 'Grenada',\n",
       "       'Guatemala', 'Guinea', 'Guinea-Bissau', 'Guyana', 'Haiti',\n",
       "       'Vatican City', 'Honduras', 'Hungary', 'Iceland', 'India',\n",
       "       'Indonesia', 'Iran', 'Iraq', 'Republic of Ireland', 'Israel',\n",
       "       'Italy', 'Jamaica', 'Japan', 'Jordan', 'Kazakhstan', 'Kenya',\n",
       "       'Kiribati', 'Kuwait', 'Kyrgyzstan', 'Laos', 'Latvia', 'Lebanon',\n",
       "       'Lesotho', 'Liberia', 'Libya', 'Liechtenstein', 'Lithuania',\n",
       "       'Luxembourg', 'Madagascar', 'Malawi', 'Malaysia', 'Maldives',\n",
       "       'Mali', 'Malta', 'Marshall Islands', 'Mauritania', 'Mauritius',\n",
       "       'Mexico', 'Federated States of Micronesia', 'Moldova', 'Monaco',\n",
       "       'Mongolia', 'Montenegro', 'Morocco', 'Mozambique', 'Myanmar',\n",
       "       'Namibia', 'Nauru', 'Nepal', 'Netherlands', 'New Zealand',\n",
       "       'Nicaragua', 'Niger', 'Nigeria', 'North Korea', 'North Macedonia',\n",
       "       'Norway', 'Oman', 'Pakistan', 'Palau',\n",
       "       'Palestinian National Authority', 'Panama', 'Papua New Guinea',\n",
       "       'Paraguay', 'Peru', 'Philippines', 'Poland', 'Portugal', 'Qatar',\n",
       "       'Romania', 'Russia', 'Rwanda', 'Saint Kitts and Nevis',\n",
       "       'Saint Lucia', 'Saint Vincent and the Grenadines', 'Samoa',\n",
       "       'San Marino', 'S�����������', 'Saudi Arabia', 'Senegal', 'Serbia',\n",
       "       'Seychelles', 'Sierra Leone', 'Singapore', 'Slovakia', 'Slovenia',\n",
       "       'Solomon Islands', 'Somalia', 'South Africa', 'South Korea',\n",
       "       'South Sudan', 'Spain', 'Sri Lanka', 'Sudan', 'Suriname', 'Sweden',\n",
       "       'Switzerland', 'Syria', 'Tajikistan', 'Tanzania', 'Thailand',\n",
       "       'East Timor', 'Togo', 'Tonga', 'Trinidad and Tobago', 'Tunisia',\n",
       "       'Turkey', 'Turkmenistan', 'Tuvalu', 'Uganda', 'Ukraine',\n",
       "       'United Arab Emirates', 'United Kingdom', 'United States',\n",
       "       'Uruguay', 'Uzbekistan', 'Vanuatu', 'Venezuela', 'Vietnam',\n",
       "       'Yemen', 'Zambia', 'Zimbabwe'], dtype=object)"
      ]
     },
     "execution_count": 31,
     "metadata": {},
     "output_type": "execute_result"
    }
   ],
   "source": [
    "world_1['Country'].unique()"
   ]
  },
  {
   "cell_type": "code",
   "execution_count": 40,
   "metadata": {},
   "outputs": [
    {
     "data": {
      "text/plain": [
       "Country\n",
       "Afghanistan      1\n",
       "Saint Lucia      1\n",
       "Nicaragua        1\n",
       "Niger            1\n",
       "Nigeria          1\n",
       "                ..\n",
       "Grenada          1\n",
       "Guatemala        1\n",
       "Guinea           1\n",
       "Guinea-Bissau    1\n",
       "Zimbabwe         1\n",
       "Name: count, Length: 195, dtype: int64"
      ]
     },
     "execution_count": 40,
     "metadata": {},
     "output_type": "execute_result"
    }
   ],
   "source": [
    "world_1['Country'].value_counts()"
   ]
  },
  {
   "cell_type": "code",
   "execution_count": 43,
   "metadata": {},
   "outputs": [
    {
     "data": {
      "text/plain": [
       "Country                   0\n",
       "Density\\n(P/Km2)          0\n",
       "Abbreviation              7\n",
       "Agricultural Land( %)     7\n",
       "Land Area(Km2)            1\n",
       "Armed Forces size        24\n",
       "Birth Rate                6\n",
       "Calling Code              1\n",
       "Capital/Major City        3\n",
       "Co2-Emissions             7\n",
       "CPI                      17\n",
       "CPI Change (%)           16\n",
       "Currency-Code            15\n",
       "Fertility Rate            7\n",
       "Forested Area (%)         7\n",
       "Gasoline Price           20\n",
       "dtype: int64"
      ]
     },
     "execution_count": 43,
     "metadata": {},
     "output_type": "execute_result"
    }
   ],
   "source": [
    "world_1.isnull().sum()"
   ]
  },
  {
   "attachments": {},
   "cell_type": "markdown",
   "metadata": {},
   "source": [
    "Vamos a obtener el porcentaje de nulos por cada campo"
   ]
  },
  {
   "cell_type": "code",
   "execution_count": 46,
   "metadata": {},
   "outputs": [
    {
     "data": {
      "text/plain": [
       "Country                   0.00\n",
       "Density\\n(P/Km2)          0.00\n",
       "Abbreviation              3.59\n",
       "Agricultural Land( %)     3.59\n",
       "Land Area(Km2)            0.51\n",
       "Armed Forces size        12.31\n",
       "Birth Rate                3.08\n",
       "Calling Code              0.51\n",
       "Capital/Major City        1.54\n",
       "Co2-Emissions             3.59\n",
       "CPI                       8.72\n",
       "CPI Change (%)            8.21\n",
       "Currency-Code             7.69\n",
       "Fertility Rate            3.59\n",
       "Forested Area (%)         3.59\n",
       "Gasoline Price           10.26\n",
       "dtype: float64"
      ]
     },
     "execution_count": 46,
     "metadata": {},
     "output_type": "execute_result"
    }
   ],
   "source": [
    "porcentaje_nulos = round(world_1.isnull().sum()/world_1.shape[0]*100,2)\n",
    "porcentaje_nulos"
   ]
  },
  {
   "cell_type": "code",
   "execution_count": 49,
   "metadata": {},
   "outputs": [
    {
     "data": {
      "text/plain": [
       "0"
      ]
     },
     "execution_count": 49,
     "metadata": {},
     "output_type": "execute_result"
    }
   ],
   "source": [
    "world_1.duplicated().sum()"
   ]
  },
  {
   "cell_type": "code",
   "execution_count": 50,
   "metadata": {},
   "outputs": [
    {
     "name": "stdout",
     "output_type": "stream",
     "text": [
      "<class 'pandas.core.frame.DataFrame'>\n",
      "Index: 195 entries, 0 to 194\n",
      "Data columns (total 16 columns):\n",
      " #   Column                 Non-Null Count  Dtype  \n",
      "---  ------                 --------------  -----  \n",
      " 0   Country                195 non-null    object \n",
      " 1   Density\n",
      "(P/Km2)        195 non-null    float64\n",
      " 2   Abbreviation           188 non-null    object \n",
      " 3   Agricultural Land( %)  188 non-null    float64\n",
      " 4   Land Area(Km2)         194 non-null    object \n",
      " 5   Armed Forces size      171 non-null    object \n",
      " 6   Birth Rate             189 non-null    float64\n",
      " 7   Calling Code           194 non-null    float64\n",
      " 8   Capital/Major City     192 non-null    object \n",
      " 9   Co2-Emissions          188 non-null    object \n",
      " 10  CPI                    178 non-null    object \n",
      " 11  CPI Change (%)         179 non-null    float64\n",
      " 12  Currency-Code          180 non-null    object \n",
      " 13  Fertility Rate         188 non-null    float64\n",
      " 14  Forested Area (%)      188 non-null    float64\n",
      " 15  Gasoline Price         175 non-null    float64\n",
      "dtypes: float64(8), object(8)\n",
      "memory usage: 25.9+ KB\n"
     ]
    }
   ],
   "source": [
    "world_1.info()"
   ]
  },
  {
   "cell_type": "code",
   "execution_count": 51,
   "metadata": {},
   "outputs": [
    {
     "data": {
      "text/html": [
       "<div>\n",
       "<style scoped>\n",
       "    .dataframe tbody tr th:only-of-type {\n",
       "        vertical-align: middle;\n",
       "    }\n",
       "\n",
       "    .dataframe tbody tr th {\n",
       "        vertical-align: top;\n",
       "    }\n",
       "\n",
       "    .dataframe thead th {\n",
       "        text-align: right;\n",
       "    }\n",
       "</style>\n",
       "<table border=\"1\" class=\"dataframe\">\n",
       "  <thead>\n",
       "    <tr style=\"text-align: right;\">\n",
       "      <th></th>\n",
       "      <th>Density\\n(P/Km2)</th>\n",
       "      <th>Agricultural Land( %)</th>\n",
       "      <th>Birth Rate</th>\n",
       "      <th>Calling Code</th>\n",
       "      <th>CPI Change (%)</th>\n",
       "      <th>Fertility Rate</th>\n",
       "      <th>Forested Area (%)</th>\n",
       "      <th>Gasoline Price</th>\n",
       "    </tr>\n",
       "  </thead>\n",
       "  <tbody>\n",
       "    <tr>\n",
       "      <th>count</th>\n",
       "      <td>195.000000</td>\n",
       "      <td>188.000000</td>\n",
       "      <td>189.000000</td>\n",
       "      <td>194.000000</td>\n",
       "      <td>179.000000</td>\n",
       "      <td>188.000000</td>\n",
       "      <td>188.000000</td>\n",
       "      <td>175.000000</td>\n",
       "    </tr>\n",
       "    <tr>\n",
       "      <th>mean</th>\n",
       "      <td>356.764103</td>\n",
       "      <td>39.117553</td>\n",
       "      <td>20.214974</td>\n",
       "      <td>360.546392</td>\n",
       "      <td>6.722346</td>\n",
       "      <td>2.698138</td>\n",
       "      <td>32.015426</td>\n",
       "      <td>1.002457</td>\n",
       "    </tr>\n",
       "    <tr>\n",
       "      <th>std</th>\n",
       "      <td>1982.888967</td>\n",
       "      <td>21.783052</td>\n",
       "      <td>9.945774</td>\n",
       "      <td>323.236419</td>\n",
       "      <td>24.450414</td>\n",
       "      <td>1.282267</td>\n",
       "      <td>23.791331</td>\n",
       "      <td>0.368858</td>\n",
       "    </tr>\n",
       "    <tr>\n",
       "      <th>min</th>\n",
       "      <td>2.000000</td>\n",
       "      <td>0.600000</td>\n",
       "      <td>5.900000</td>\n",
       "      <td>1.000000</td>\n",
       "      <td>-4.300000</td>\n",
       "      <td>0.980000</td>\n",
       "      <td>0.000000</td>\n",
       "      <td>0.000000</td>\n",
       "    </tr>\n",
       "    <tr>\n",
       "      <th>25%</th>\n",
       "      <td>35.500000</td>\n",
       "      <td>21.700000</td>\n",
       "      <td>11.300000</td>\n",
       "      <td>82.500000</td>\n",
       "      <td>1.000000</td>\n",
       "      <td>1.705000</td>\n",
       "      <td>11.000000</td>\n",
       "      <td>0.755000</td>\n",
       "    </tr>\n",
       "    <tr>\n",
       "      <th>50%</th>\n",
       "      <td>89.000000</td>\n",
       "      <td>39.600000</td>\n",
       "      <td>17.950000</td>\n",
       "      <td>255.500000</td>\n",
       "      <td>2.300000</td>\n",
       "      <td>2.245000</td>\n",
       "      <td>32.000000</td>\n",
       "      <td>0.980000</td>\n",
       "    </tr>\n",
       "    <tr>\n",
       "      <th>75%</th>\n",
       "      <td>216.500000</td>\n",
       "      <td>55.375000</td>\n",
       "      <td>28.750000</td>\n",
       "      <td>506.750000</td>\n",
       "      <td>4.250000</td>\n",
       "      <td>3.597500</td>\n",
       "      <td>48.175000</td>\n",
       "      <td>1.240000</td>\n",
       "    </tr>\n",
       "    <tr>\n",
       "      <th>max</th>\n",
       "      <td>26337.000000</td>\n",
       "      <td>82.600000</td>\n",
       "      <td>46.080000</td>\n",
       "      <td>1876.000000</td>\n",
       "      <td>254.900000</td>\n",
       "      <td>6.910000</td>\n",
       "      <td>98.300000</td>\n",
       "      <td>2.000000</td>\n",
       "    </tr>\n",
       "  </tbody>\n",
       "</table>\n",
       "</div>"
      ],
      "text/plain": [
       "       Density\\n(P/Km2)  Agricultural Land( %)  Birth Rate  Calling Code  \\\n",
       "count        195.000000             188.000000  189.000000    194.000000   \n",
       "mean         356.764103              39.117553   20.214974    360.546392   \n",
       "std         1982.888967              21.783052    9.945774    323.236419   \n",
       "min            2.000000               0.600000    5.900000      1.000000   \n",
       "25%           35.500000              21.700000   11.300000     82.500000   \n",
       "50%           89.000000              39.600000   17.950000    255.500000   \n",
       "75%          216.500000              55.375000   28.750000    506.750000   \n",
       "max        26337.000000              82.600000   46.080000   1876.000000   \n",
       "\n",
       "       CPI Change (%)  Fertility Rate  Forested Area (%)  Gasoline Price  \n",
       "count      179.000000      188.000000         188.000000      175.000000  \n",
       "mean         6.722346        2.698138          32.015426        1.002457  \n",
       "std         24.450414        1.282267          23.791331        0.368858  \n",
       "min         -4.300000        0.980000           0.000000        0.000000  \n",
       "25%          1.000000        1.705000          11.000000        0.755000  \n",
       "50%          2.300000        2.245000          32.000000        0.980000  \n",
       "75%          4.250000        3.597500          48.175000        1.240000  \n",
       "max        254.900000        6.910000          98.300000        2.000000  "
      ]
     },
     "execution_count": 51,
     "metadata": {},
     "output_type": "execute_result"
    }
   ],
   "source": [
    "world_1.describe()"
   ]
  },
  {
   "cell_type": "code",
   "execution_count": 52,
   "metadata": {},
   "outputs": [
    {
     "data": {
      "text/html": [
       "<div>\n",
       "<style scoped>\n",
       "    .dataframe tbody tr th:only-of-type {\n",
       "        vertical-align: middle;\n",
       "    }\n",
       "\n",
       "    .dataframe tbody tr th {\n",
       "        vertical-align: top;\n",
       "    }\n",
       "\n",
       "    .dataframe thead th {\n",
       "        text-align: right;\n",
       "    }\n",
       "</style>\n",
       "<table border=\"1\" class=\"dataframe\">\n",
       "  <thead>\n",
       "    <tr style=\"text-align: right;\">\n",
       "      <th></th>\n",
       "      <th>Country</th>\n",
       "      <th>Abbreviation</th>\n",
       "      <th>Land Area(Km2)</th>\n",
       "      <th>Armed Forces size</th>\n",
       "      <th>Capital/Major City</th>\n",
       "      <th>Co2-Emissions</th>\n",
       "      <th>CPI</th>\n",
       "      <th>Currency-Code</th>\n",
       "    </tr>\n",
       "  </thead>\n",
       "  <tbody>\n",
       "    <tr>\n",
       "      <th>count</th>\n",
       "      <td>195</td>\n",
       "      <td>188</td>\n",
       "      <td>194</td>\n",
       "      <td>171</td>\n",
       "      <td>192</td>\n",
       "      <td>188</td>\n",
       "      <td>178</td>\n",
       "      <td>180</td>\n",
       "    </tr>\n",
       "    <tr>\n",
       "      <th>unique</th>\n",
       "      <td>195</td>\n",
       "      <td>188</td>\n",
       "      <td>194</td>\n",
       "      <td>105</td>\n",
       "      <td>192</td>\n",
       "      <td>184</td>\n",
       "      <td>175</td>\n",
       "      <td>133</td>\n",
       "    </tr>\n",
       "    <tr>\n",
       "      <th>top</th>\n",
       "      <td>Afghanistan</td>\n",
       "      <td>AF</td>\n",
       "      <td>652,230</td>\n",
       "      <td>2,000</td>\n",
       "      <td>Kabul</td>\n",
       "      <td>143</td>\n",
       "      <td>110.62</td>\n",
       "      <td>EUR</td>\n",
       "    </tr>\n",
       "    <tr>\n",
       "      <th>freq</th>\n",
       "      <td>1</td>\n",
       "      <td>1</td>\n",
       "      <td>1</td>\n",
       "      <td>7</td>\n",
       "      <td>1</td>\n",
       "      <td>2</td>\n",
       "      <td>2</td>\n",
       "      <td>23</td>\n",
       "    </tr>\n",
       "  </tbody>\n",
       "</table>\n",
       "</div>"
      ],
      "text/plain": [
       "            Country Abbreviation Land Area(Km2) Armed Forces size  \\\n",
       "count           195          188            194               171   \n",
       "unique          195          188            194               105   \n",
       "top     Afghanistan           AF        652,230             2,000   \n",
       "freq              1            1              1                 7   \n",
       "\n",
       "       Capital/Major City Co2-Emissions     CPI Currency-Code  \n",
       "count                 192           188     178           180  \n",
       "unique                192           184     175           133  \n",
       "top                 Kabul           143  110.62           EUR  \n",
       "freq                    1             2       2            23  "
      ]
     },
     "execution_count": 52,
     "metadata": {},
     "output_type": "execute_result"
    }
   ],
   "source": [
    "world_1.describe(include='object')"
   ]
  }
 ],
 "metadata": {
  "kernelspec": {
   "display_name": "Python 3",
   "language": "python",
   "name": "python3"
  },
  "language_info": {
   "codemirror_mode": {
    "name": "ipython",
    "version": 3
   },
   "file_extension": ".py",
   "mimetype": "text/x-python",
   "name": "python",
   "nbconvert_exporter": "python",
   "pygments_lexer": "ipython3",
   "version": "3.11.1"
  },
  "orig_nbformat": 4
 },
 "nbformat": 4,
 "nbformat_minor": 2
}
